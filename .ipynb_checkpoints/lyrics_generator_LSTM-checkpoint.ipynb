{
 "cells": [
  {
   "cell_type": "markdown",
   "metadata": {},
   "source": [
    "# 中文歌詞產生器 (LSTM)"
   ]
  },
  {
   "cell_type": "code",
   "execution_count": 1,
   "metadata": {},
   "outputs": [],
   "source": [
    "import markov_speaking\n",
    "import re\n",
    "import random\n",
    "import numpy as np\n",
    "import os\n",
    "import keras\n",
    "from rhyme_searching import *\n",
    "from keras.models import Sequential\n",
    "from keras.layers import LSTM\n",
    "from keras.layers.core import Dense"
   ]
  },
  {
   "cell_type": "markdown",
   "metadata": {},
   "source": [
    "### environment setting"
   ]
  },
  {
   "cell_type": "code",
   "execution_count": 2,
   "metadata": {},
   "outputs": [],
   "source": [
    "# set training mode\n",
    "train_mode = False #set value to True when training\n",
    "\n",
    "# artist name\n",
    "artist = 'mayday' \n",
    "\n",
    "# training/dataset data \n",
    "text_file = 'mayday_lyrics.txt'\n",
    "\n",
    "# output file\n",
    "rap_file = 'output.txt' #empty before training\n",
    "\n",
    "# initial lines\n",
    "initial_lines = ['微光', '微光']\n",
    "\n",
    "# training depth\n",
    "depth = 4\n",
    "\n",
    "# vector size\n",
    "vector_size = 100\n",
    "\n",
    "# ataset size\n",
    "dataset_size = 30"
   ]
  },
  {
   "cell_type": "markdown",
   "metadata": {},
   "source": [
    "### set up the model"
   ]
  },
  {
   "cell_type": "code",
   "execution_count": 3,
   "metadata": {},
   "outputs": [],
   "source": [
    "def create_network(depth):\n",
    "    model = Sequential()\n",
    "    model.add(LSTM(4, input_shape=(2, 2), return_sequences=True))\n",
    "    for i in range(depth):\n",
    "        model.add(LSTM(8, return_sequences=True))\n",
    "    model.add(LSTM(2, return_sequences=True))\n",
    "    model.summary()\n",
    "    model.compile(optimizer='rmsprop',\n",
    "               loss='mse')\n",
    "    if train_mode == False:\n",
    "        model.load_weights(str(artist + '.h5'))\n",
    "        print('loading saved network: ' + str(artist) + '.h5')\n",
    "    return model"
   ]
  },
  {
   "cell_type": "markdown",
   "metadata": {},
   "source": [
    "### split the text"
   ]
  },
  {
   "cell_type": "code",
   "execution_count": 4,
   "metadata": {},
   "outputs": [],
   "source": [
    "def split_lyrics_file(text_file):\n",
    "    text = open(text_file, encoding='UTF-8', errors='ignore').read()\n",
    "    text = text.replace(' ','').split('\\n')\n",
    "    while '' in text:\n",
    "        text.remove('')\n",
    "    return text"
   ]
  },
  {
   "cell_type": "markdown",
   "metadata": {},
   "source": [
    "### build the dataset for training"
   ]
  },
  {
   "cell_type": "code",
   "execution_count": 5,
   "metadata": {},
   "outputs": [],
   "source": [
    "def build_dataset(lines):\n",
    "    print('Start building, you have to wait')\n",
    "\n",
    "    dataset = []\n",
    "    line_list = []\n",
    "    j = 0\n",
    "    for line in lines:\n",
    "        line_list = [line, len(line), rhyme(line)]\n",
    "        dataset.append(line_list)\n",
    "        j += 1\n",
    "        print(j)\n",
    "    x_data = []\n",
    "    y_data = []\n",
    "    for i in range(len(dataset) - 3):\n",
    "        print(i)\n",
    "        line1 = dataset[i][1:]\n",
    "        line2 = dataset[i + 1][1:]\n",
    "        line3 = dataset[i + 2][1:]\n",
    "        line4 = dataset[i + 3][1:]\n",
    "        x = [line1[0], line1[1], line2[0], line2[1]]\n",
    "        x = np.array(x)\n",
    "        x = x.reshape(2, 2)\n",
    "        x_data.append(x)\n",
    "        y = [line3[0], line3[1], line4[0], line4[1]]\n",
    "        y = np.array(y)\n",
    "        y = y.reshape(2, 2)\n",
    "        y_data.append(y)\n",
    "    x_data = np.array(x_data)\n",
    "    y_data = np.array(y_data)\n",
    "    print('Finished building the dataset')\n",
    "    return x_data, y_data"
   ]
  },
  {
   "cell_type": "markdown",
   "metadata": {},
   "source": [
    "### predict the next bar"
   ]
  },
  {
   "cell_type": "code",
   "execution_count": 6,
   "metadata": {},
   "outputs": [],
   "source": [
    "def compose_rap(lyrics_file, model):\n",
    "    \n",
    "    ### uncomment following codes if initial lines are not set ###\n",
    "    \n",
    "    #human_lyrics = split_lyrics_file(lyrics_file)\n",
    "    #initial_index = random.choice(range(len(human_lyrics) - 1))\n",
    "    #initial_lines = human_lyrics[initial_index:initial_index + 2]\n",
    "    \n",
    "    ### uncomment above codes if initial lines are not set ###\n",
    "    \n",
    "    starting_input = []\n",
    "    for line in initial_lines:\n",
    "        starting_input.append([len(line), rhyme(line)])\n",
    "\n",
    "    rap_vectors = []\n",
    "    starting_vectors = model.predict(\n",
    "        np.array([starting_input]).flatten().reshape(1, 2, 2))\n",
    "    rap_vectors.append(starting_vectors)\n",
    "\n",
    "    for i in range(vector_size):\n",
    "        rap_vectors.append(model.predict(\n",
    "            np.array([rap_vectors[-1]]).flatten().reshape(1, 2, 2)))\n",
    "\n",
    "    return rap_vectors"
   ]
  },
  {
   "cell_type": "markdown",
   "metadata": {},
   "source": [
    "### use the vectors to make songs"
   ]
  },
  {
   "cell_type": "code",
   "execution_count": 7,
   "metadata": {},
   "outputs": [],
   "source": [
    "def vectors_into_song(vectors, generated_lyrics):\n",
    "    print('\\n\\n')\n",
    "    print('About to write rap (this could take a moment)...')\n",
    "    print('\\n\\n')\n",
    "\n",
    "    def calculate_score(vector_half, syllables, rhyme):\n",
    "        desired_syllables = vector_half[0]\n",
    "        desired_rhyme = vector_half[1]\n",
    "        desired_rhyme = desired_rhyme * len(rhyme_list)\n",
    "\n",
    "        score = 1.0 - (abs((float(desired_syllables) - float(syllables))) +\n",
    "                       abs((float(desired_rhyme) - float(rhyme))))\n",
    "        return score\n",
    "    \n",
    "    dataset = []\n",
    "    for line in generated_lyrics:\n",
    "        line_list = [line, len(line), rhyme(line)]\n",
    "        dataset.append(line_list)\n",
    "    \n",
    "    rap = initial_lines\n",
    "    for line in initial_lines:\n",
    "        print(line)\n",
    "    \n",
    "    vector_halves = []\n",
    "    for vector in vectors:\n",
    "        vector_halves.append(list(vector[0][0]))\n",
    "        vector_halves.append(list(vector[0][1]))\n",
    "    for vector in vector_halves:\n",
    "        scorelist = []\n",
    "        for item in dataset:\n",
    "            line = item[0]\n",
    "            total_score = calculate_score(vector, item[1], item[2])\n",
    "            score_entry = [line, total_score]\n",
    "            scorelist.append(score_entry)\n",
    "        fixed_score_list = []\n",
    "        for score in scorelist:\n",
    "            fixed_score_list.append(float(score[1]))\n",
    "        if len(fixed_score_list) == 0:\n",
    "            return rap\n",
    "        max_score = max(fixed_score_list)\n",
    "        for item in scorelist:\n",
    "            if item[1] == max_score:\n",
    "                rap.append(item[0])\n",
    "                print(str(item[0]))\n",
    "\n",
    "                for i in dataset:\n",
    "                    if item[0] == i[0]:\n",
    "                        dataset.remove(i)\n",
    "                        break\n",
    "                break\n",
    "    return rap"
   ]
  },
  {
   "cell_type": "markdown",
   "metadata": {},
   "source": [
    "### start training"
   ]
  },
  {
   "cell_type": "code",
   "execution_count": 8,
   "metadata": {},
   "outputs": [],
   "source": [
    "def train(x_data, y_data, model):\n",
    "    model.fit(np.array(x_data), np.array(y_data),\n",
    "           batch_size=2,\n",
    "           epochs=5,\n",
    "           verbose=1)\n",
    "    model.save_weights(artist + '.h5')\n",
    "    print('Finished training')"
   ]
  },
  {
   "cell_type": "markdown",
   "metadata": {},
   "source": [
    "### the main function"
   ]
  },
  {
   "cell_type": "code",
   "execution_count": 9,
   "metadata": {},
   "outputs": [],
   "source": [
    "def main(depth, train_mode):\n",
    "    # create the network\n",
    "    model = create_network(depth)\n",
    "    \n",
    "    if train_mode == True:\n",
    "        bars = split_lyrics_file(text_file)\n",
    "    if train_mode == False:\n",
    "        p = markov_speaking.Markov(text_file, 1)\n",
    "        bars = []\n",
    "        for _ in range(dataset_size):\n",
    "            bars.append(p.say())\n",
    "    if train_mode == True:\n",
    "        x_data, y_data = build_dataset(bars)\n",
    "        train(x_data, y_data, model)\n",
    "    if train_mode == False:\n",
    "        vectors = compose_rap(text_file, model)\n",
    "        rap = vectors_into_song(vectors, bars)\n",
    "        f = open(rap_file, 'w', encoding='UTF-8')\n",
    "        for bar in rap:\n",
    "            f.write(bar)\n",
    "            f.write('\\n')"
   ]
  },
  {
   "cell_type": "code",
   "execution_count": 10,
   "metadata": {},
   "outputs": [
    {
     "name": "stderr",
     "output_type": "stream",
     "text": [
      "Building prefix dict from the default dictionary ...\n",
      "Loading model from cache C:\\Users\\MAO-CH~1\\AppData\\Local\\Temp\\jieba.cache\n"
     ]
    },
    {
     "name": "stdout",
     "output_type": "stream",
     "text": [
      "Model: \"sequential\"\n",
      "_________________________________________________________________\n",
      "Layer (type)                 Output Shape              Param #   \n",
      "=================================================================\n",
      "lstm (LSTM)                  (None, 2, 4)              112       \n",
      "_________________________________________________________________\n",
      "lstm_1 (LSTM)                (None, 2, 8)              416       \n",
      "_________________________________________________________________\n",
      "lstm_2 (LSTM)                (None, 2, 8)              544       \n",
      "_________________________________________________________________\n",
      "lstm_3 (LSTM)                (None, 2, 8)              544       \n",
      "_________________________________________________________________\n",
      "lstm_4 (LSTM)                (None, 2, 8)              544       \n",
      "_________________________________________________________________\n",
      "lstm_5 (LSTM)                (None, 2, 2)              88        \n",
      "=================================================================\n",
      "Total params: 2,248\n",
      "Trainable params: 2,248\n",
      "Non-trainable params: 0\n",
      "_________________________________________________________________\n",
      "loading saved network: mayday.h5\n"
     ]
    },
    {
     "name": "stderr",
     "output_type": "stream",
     "text": [
      "Loading model cost 0.825 seconds.\n",
      "Prefix dict has been built successfully.\n"
     ]
    },
    {
     "name": "stdout",
     "output_type": "stream",
     "text": [
      "眼神可以交流\n",
      "生命怎麼揮霍\n",
      "風箏飛上天空\n",
      "空氣突然安靜\n",
      "好像好像好像好像好像應該有點\n",
      "為何我還追憶\n",
      "轟轟烈烈劇情\n",
      "甘知當初男兒\n",
      "當時地球年輕\n",
      "我們終將分離\n",
      "就是生活滋味\n",
      "只要尊重這個文化\n",
      "沸沸揚揚頒獎\n",
      "委屈自己一秒\n",
      "看到滿天金條\n",
      "走過動盪日子\n",
      "親愛甘放未記\n",
      "今夜我要離去\n",
      "給你那麼那麼相信\n",
      "時候招惹麻煩\n",
      "相遇一個也許螞蟻\n",
      "不過可愛模樣\n",
      "此生無知奔忙\n",
      "一字一句完整說出\n",
      "逃離這個瘋狂世界\n",
      "不過就是一條\n",
      "我們光腳越過人間荒唐\n",
      "我們不開時候\n",
      "曾經快樂上面擺盪\n",
      "眼淚依賴臉龐\n",
      "\n",
      "\n",
      "\n",
      "About to write rap (this could take a moment)...\n",
      "\n",
      "\n",
      "\n",
      "微光\n",
      "微光\n",
      "走過動盪日子\n",
      "甘知當初男兒\n",
      "眼神可以交流\n",
      "生命怎麼揮霍\n",
      "我們不開時候\n",
      "空氣突然安靜\n",
      "轟轟烈烈劇情\n",
      "當時地球年輕\n",
      "為何我還追憶\n",
      "我們終將分離\n",
      "親愛甘放未記\n",
      "今夜我要離去\n",
      "風箏飛上天空\n",
      "就是生活滋味\n",
      "委屈自己一秒\n",
      "看到滿天金條\n",
      "不過就是一條\n",
      "沸沸揚揚頒獎\n",
      "不過可愛模樣\n",
      "此生無知奔忙\n",
      "眼淚依賴臉龐\n",
      "時候招惹麻煩\n",
      "一字一句完整說出\n",
      "給你那麼那麼相信\n",
      "逃離這個瘋狂世界\n",
      "相遇一個也許螞蟻\n",
      "曾經快樂上面擺盪\n",
      "只要尊重這個文化\n",
      "我們光腳越過人間荒唐\n",
      "好像好像好像好像好像應該有點\n"
     ]
    }
   ],
   "source": [
    "main(depth, train_mode)"
   ]
  },
  {
   "cell_type": "code",
   "execution_count": null,
   "metadata": {},
   "outputs": [],
   "source": []
  }
 ],
 "metadata": {
  "kernelspec": {
   "display_name": "Python 3",
   "language": "python",
   "name": "python3"
  },
  "language_info": {
   "codemirror_mode": {
    "name": "ipython",
    "version": 3
   },
   "file_extension": ".py",
   "mimetype": "text/x-python",
   "name": "python",
   "nbconvert_exporter": "python",
   "pygments_lexer": "ipython3",
   "version": "3.7.9"
  }
 },
 "nbformat": 4,
 "nbformat_minor": 4
}
