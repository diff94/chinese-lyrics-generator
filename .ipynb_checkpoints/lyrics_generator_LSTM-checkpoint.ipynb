{
 "cells": [
  {
   "cell_type": "markdown",
   "metadata": {},
   "source": [
    "# 中文歌詞產生器 (LSTM)"
   ]
  },
  {
   "cell_type": "code",
   "execution_count": 2,
   "metadata": {},
   "outputs": [
    {
     "ename": "ModuleNotFoundError",
     "evalue": "No module named 'markov_speaking'",
     "output_type": "error",
     "traceback": [
      "\u001b[1;31m---------------------------------------------------------------------------\u001b[0m",
      "\u001b[1;31mModuleNotFoundError\u001b[0m                       Traceback (most recent call last)",
      "\u001b[1;32m<ipython-input-2-1996bb1c8fe5>\u001b[0m in \u001b[0;36m<module>\u001b[1;34m\u001b[0m\n\u001b[1;32m----> 1\u001b[1;33m \u001b[1;32mimport\u001b[0m \u001b[0mmarkov_speaking\u001b[0m\u001b[1;33m\u001b[0m\u001b[1;33m\u001b[0m\u001b[0m\n\u001b[0m\u001b[0;32m      2\u001b[0m \u001b[1;32mimport\u001b[0m \u001b[0mre\u001b[0m\u001b[1;33m\u001b[0m\u001b[1;33m\u001b[0m\u001b[0m\n\u001b[0;32m      3\u001b[0m \u001b[1;32mimport\u001b[0m \u001b[0mrandom\u001b[0m\u001b[1;33m\u001b[0m\u001b[1;33m\u001b[0m\u001b[0m\n\u001b[0;32m      4\u001b[0m \u001b[1;32mimport\u001b[0m \u001b[0mnumpy\u001b[0m \u001b[1;32mas\u001b[0m \u001b[0mnp\u001b[0m\u001b[1;33m\u001b[0m\u001b[1;33m\u001b[0m\u001b[0m\n\u001b[0;32m      5\u001b[0m \u001b[1;32mimport\u001b[0m \u001b[0mos\u001b[0m\u001b[1;33m\u001b[0m\u001b[1;33m\u001b[0m\u001b[0m\n",
      "\u001b[1;31mModuleNotFoundError\u001b[0m: No module named 'markov_speaking'"
     ]
    }
   ],
   "source": [
    "import markov_speaking\n",
    "import re\n",
    "import random\n",
    "import numpy as np\n",
    "import os\n",
    "import keras\n",
    "from rhyme_searching import *\n",
    "from keras.models import Sequential\n",
    "from keras.layers import LSTM\n",
    "from keras.layers.core import Dense"
   ]
  },
  {
   "cell_type": "markdown",
   "metadata": {},
   "source": [
    "### set train_mode"
   ]
  },
  {
   "cell_type": "code",
   "execution_count": null,
   "metadata": {},
   "outputs": [],
   "source": [
    "train_mode = False #set value to False after training"
   ]
  },
  {
   "cell_type": "markdown",
   "metadata": {},
   "source": [
    "### set initial input"
   ]
  },
  {
   "cell_type": "code",
   "execution_count": null,
   "metadata": {},
   "outputs": [],
   "source": [
    "initial_lines = ['微光', '微光']"
   ]
  },
  {
   "cell_type": "markdown",
   "metadata": {},
   "source": [
    "### training depth"
   ]
  },
  {
   "cell_type": "code",
   "execution_count": null,
   "metadata": {},
   "outputs": [],
   "source": [
    "depth = 4 \n",
    "artist = \"mayday\" \n",
    "rap_file = \"output.txt\" #empty before training\n",
    "\n",
    "def create_network(depth):\n",
    "    model = Sequential()\n",
    "    model.add(LSTM(4, input_shape=(2, 2), return_sequences=True))\n",
    "    for i in range(depth):\n",
    "        model.add(LSTM(8, return_sequences=True))\n",
    "    model.add(LSTM(2, return_sequences=True))\n",
    "    model.summary()\n",
    "    model.compile(optimizer='rmsprop',\n",
    "               loss='mse')\n",
    "    if artist + \".rap\" in os.listdir(\".\") and train_mode == False:\n",
    "        model.load_weights(str(artist + \".rap\"))\n",
    "        print(\"loading saved network: \" + str(artist) + \".rap\")\n",
    "    return model"
   ]
  },
  {
   "cell_type": "markdown",
   "metadata": {},
   "source": [
    "### split the text"
   ]
  },
  {
   "cell_type": "code",
   "execution_count": null,
   "metadata": {},
   "outputs": [],
   "source": [
    "def split_lyrics_file(text_file):\n",
    "    text = open(text_file, encoding='UTF8', errors='ignore').read()\n",
    "    text = text.replace(\" \",\"\").split(\"\\n\")\n",
    "    while \"\" in text:\n",
    "        text.remove(\"\")\n",
    "    return text"
   ]
  },
  {
   "cell_type": "markdown",
   "metadata": {},
   "source": [
    "### build the dataset for training"
   ]
  },
  {
   "cell_type": "code",
   "execution_count": 3,
   "metadata": {},
   "outputs": [],
   "source": [
    "def build_dataset(lines):\n",
    "    print(\"Start biulding,you have to wait\")\n",
    "    # print(lines)\n",
    "    dataset = []\n",
    "    line_list = []\n",
    "    j = 0\n",
    "    for line in lines:\n",
    "        line_list = [line, len(line), rhyme(line)]\n",
    "        dataset.append(line_list)\n",
    "        j += 1\n",
    "        print(j)\n",
    "    x_data = []\n",
    "    y_data = []\n",
    "    for i in range(len(dataset) - 3):\n",
    "        print(i)\n",
    "        line1 = dataset[i][1:]\n",
    "        line2 = dataset[i + 1][1:]\n",
    "        line3 = dataset[i + 2][1:]\n",
    "        line4 = dataset[i + 3][1:]\n",
    "        x = [line1[0], line1[1], line2[0], line2[1]]\n",
    "        x = np.array(x)\n",
    "        x = x.reshape(2, 2)\n",
    "        x_data.append(x)\n",
    "        y = [line3[0], line3[1], line4[0], line4[1]]\n",
    "        y = np.array(y)\n",
    "        y = y.reshape(2, 2)\n",
    "        y_data.append(y)\n",
    "    x_data = np.array(x_data)\n",
    "    y_data = np.array(y_data)\n",
    "    print(\"Finished building the dataset\")\n",
    "    return x_data, y_data"
   ]
  },
  {
   "cell_type": "markdown",
   "metadata": {},
   "source": [
    "### use for predicting the next bar"
   ]
  },
  {
   "cell_type": "code",
   "execution_count": 4,
   "metadata": {},
   "outputs": [],
   "source": [
    "def compose_rap(lines, lyrics_file, model):\n",
    "    #human_lyrics = split_lyrics_file(lyrics_file)\n",
    "    #initial_index = random.choice(range(len(human_lyrics) - 1))\n",
    "    #initial_lines = human_lyrics[initial_index:initial_index + 2]\n",
    "    \n",
    "    starting_input = []\n",
    "    for line in initial_lines:\n",
    "        starting_input.append([len(line), rhyme(line)])\n",
    "\n",
    "    rap_vectors = []\n",
    "    starting_vectors = model.predict(\n",
    "        np.array([starting_input]).flatten().reshape(1, 2, 2))\n",
    "    rap_vectors.append(starting_vectors)\n",
    "\n",
    "    for i in range(50):\n",
    "        rap_vectors.append(model.predict(\n",
    "            np.array([rap_vectors[-1]]).flatten().reshape(1, 2, 2)))\n",
    "\n",
    "    return rap_vectors"
   ]
  },
  {
   "cell_type": "markdown",
   "metadata": {},
   "source": [
    "### use the vectors to make songs"
   ]
  },
  {
   "cell_type": "code",
   "execution_count": 5,
   "metadata": {},
   "outputs": [],
   "source": [
    "def vectors_into_song(vectors, generated_lyrics):\n",
    "    print(\"\\n\\n\")\n",
    "    print(\"About to write rap (this could take a moment)...\")\n",
    "    print(\"\\n\\n\")\n",
    "\n",
    "    def calculate_score(vector_half, syllables, rhyme):\n",
    "        desired_syllables = vector_half[0]\n",
    "        desired_rhyme = vector_half[1]\n",
    "        desired_rhyme = desired_rhyme * len(rhyme_list)\n",
    "\n",
    "        score = 1.0 - (abs((float(desired_syllables) - float(syllables))) +\n",
    "                       abs((float(desired_rhyme) - float(rhyme))))\n",
    "        return score\n",
    "    dataset = []\n",
    "    for line in generated_lyrics:\n",
    "        line_list = [line, len(line), rhyme(line)]\n",
    "        dataset.append(line_list)\n",
    "    rap = []\n",
    "    vector_halves = []\n",
    "    for vector in vectors:\n",
    "        vector_halves.append(list(vector[0][0]))\n",
    "        vector_halves.append(list(vector[0][1]))\n",
    "    for vector in vector_halves:\n",
    "        scorelist = []\n",
    "        for item in dataset:\n",
    "            line = item[0]\n",
    "            total_score = calculate_score(vector, item[1], item[2])\n",
    "            score_entry = [line, total_score]\n",
    "            scorelist.append(score_entry)\n",
    "        fixed_score_list = []\n",
    "        for score in scorelist:\n",
    "            fixed_score_list.append(float(score[1]))\n",
    "        if len(fixed_score_list) == 0:\n",
    "            return rap\n",
    "        max_score = max(fixed_score_list)\n",
    "        for item in scorelist:\n",
    "            if item[1] == max_score:\n",
    "                rap.append(item[0])\n",
    "                print(str(item[0]))\n",
    "\n",
    "                for i in dataset:\n",
    "                    if item[0] == i[0]:\n",
    "                        dataset.remove(i)\n",
    "                        break\n",
    "                break\n",
    "    return rap"
   ]
  },
  {
   "cell_type": "markdown",
   "metadata": {},
   "source": [
    "### start training"
   ]
  },
  {
   "cell_type": "code",
   "execution_count": 6,
   "metadata": {},
   "outputs": [],
   "source": [
    "def train(x_data, y_data, model):\n",
    "    model.fit(np.array(x_data), np.array(y_data),\n",
    "           batch_size=2,\n",
    "           epochs=5,\n",
    "           verbose=1)\n",
    "    model.save_weights(artist + \".rap\")\n",
    "    print(\"Finished training\")"
   ]
  },
  {
   "cell_type": "markdown",
   "metadata": {},
   "source": [
    "### the main function"
   ]
  },
  {
   "cell_type": "code",
   "execution_count": 7,
   "metadata": {},
   "outputs": [],
   "source": [
    "def main(depth, train_mode):\n",
    "    # create the network\n",
    "    model = create_network(depth)\n",
    "    text_file = \"mayday_lyrics.txt\"\n",
    "    if train_mode == True:\n",
    "        bars = split_lyrics_file(text_file)\n",
    "    if train_mode == False:\n",
    "        p = markov_speaking.Markov(text_file, 1)\n",
    "        bars = []\n",
    "        for _ in range(30):\n",
    "            bars.append(p.say())\n",
    "    if train_mode == True:\n",
    "        x_data, y_data = build_dataset(bars)\n",
    "        train(x_data, y_data, model)\n",
    "    if train_mode == False:\n",
    "        vectors = compose_rap(bars,text_file, model)\n",
    "        rap = vectors_into_song(vectors, bars)\n",
    "        f = open(rap_file, \"w\",encoding=\"UTF8\")\n",
    "        for bar in rap:\n",
    "            f.write(bar)\n",
    "            f.write(\"\\n\")"
   ]
  },
  {
   "cell_type": "code",
   "execution_count": 8,
   "metadata": {},
   "outputs": [
    {
     "ename": "NameError",
     "evalue": "name 'depth' is not defined",
     "output_type": "error",
     "traceback": [
      "\u001b[1;31m---------------------------------------------------------------------------\u001b[0m",
      "\u001b[1;31mNameError\u001b[0m                                 Traceback (most recent call last)",
      "\u001b[1;32m<ipython-input-8-2019c8758e5a>\u001b[0m in \u001b[0;36m<module>\u001b[1;34m\u001b[0m\n\u001b[1;32m----> 1\u001b[1;33m \u001b[0mmain\u001b[0m\u001b[1;33m(\u001b[0m\u001b[0mdepth\u001b[0m\u001b[1;33m,\u001b[0m \u001b[0mtrain_mode\u001b[0m\u001b[1;33m)\u001b[0m\u001b[1;33m\u001b[0m\u001b[1;33m\u001b[0m\u001b[0m\n\u001b[0m",
      "\u001b[1;31mNameError\u001b[0m: name 'depth' is not defined"
     ]
    }
   ],
   "source": [
    "main(depth, train_mode)"
   ]
  },
  {
   "cell_type": "code",
   "execution_count": null,
   "metadata": {},
   "outputs": [],
   "source": []
  }
 ],
 "metadata": {
  "kernelspec": {
   "display_name": "Python 3",
   "language": "python",
   "name": "python3"
  },
  "language_info": {
   "codemirror_mode": {
    "name": "ipython",
    "version": 3
   },
   "file_extension": ".py",
   "mimetype": "text/x-python",
   "name": "python",
   "nbconvert_exporter": "python",
   "pygments_lexer": "ipython3",
   "version": "3.7.9"
  }
 },
 "nbformat": 4,
 "nbformat_minor": 4
}
